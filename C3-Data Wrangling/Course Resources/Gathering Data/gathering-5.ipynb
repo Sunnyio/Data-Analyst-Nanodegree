{
 "cells": [
  {
   "cell_type": "code",
   "execution_count": 3,
   "metadata": {},
   "outputs": [],
   "source": [
    "import wptools"
   ]
  },
  {
   "cell_type": "code",
   "execution_count": 4,
   "metadata": {},
   "outputs": [
    {
     "name": "stderr",
     "output_type": "stream",
     "text": [
      "en.wikipedia.org (query) Extraterrestrial_(2014_film)\n",
      "API warning: {'extracts': {'warnings': 'HTML may be malformed and/or unbalanced and may omit inline images. Use at your own risk. Known problems are listed at https://www.mediawiki.org/wiki/Extension:TextExtracts#Caveats.'}}\n",
      "en.wikipedia.org (parse) 42571103\n",
      "www.wikidata.org (wikidata) Q16649033\n",
      "www.wikidata.org (labels) P161|P3302|P2603|P3844|P5032|P2684|Q200...\n",
      "www.wikidata.org (labels) Q1320512|Q242842\n",
      "en.wikipedia.org (restbase) /page/summary/Extraterrestrial_(2014_film)\n",
      "en.wikipedia.org (imageinfo) File:Extraterrestrial-film-2014.jpg\n",
      "Extraterrestrial (2014 film) (en) data\n",
      "{\n",
      "  claims: <dict(35)> P1258, P31, P364, P577, P495, P161, P136, P34...\n",
      "  description: 2014 film directed by Colin Minihan and The Vicious...\n",
      "  exhtml: <str(302)> <p><i><b>Extraterrestrial</b></i> is a 2014 A...\n",
      "  exrest: <str(281)> Extraterrestrial is a 2014 American science f...\n",
      "  extext: <str(343)> _**Extraterrestrial**_ (also known under the ...\n",
      "  extract: <str(397)> <p class=\"mw-empty-elt\"></p><p><i><b>Extrate...\n",
      "  image: <list(3)> {'kind': 'parse-image', 'file': 'File:Extraterr...\n",
      "  infobox: <dict(24)> name, image, alt, caption, film name, direct...\n",
      "  label: Extraterrestrial\n",
      "  labels: <dict(52)> P161, P3302, P2603, P3844, P5032, P2684, Q200...\n",
      "  length: 9,745\n",
      "  links: <list(31)> Blitz//Berlin, Bloody Disgusting, Brittany All...\n",
      "  modified: <dict(2)> page, wikidata\n",
      "  pageid: 42571103\n",
      "  parsetree: <str(12444)> <root><template><title>Use mdy dates</ti...\n",
      "  random: <str(92)> Dora Mavor Moore Award for Outstanding Perform...\n",
      "  redirects: <list(1)> {'pageid': 42571375, 'ns': 0, 'title': 'The...\n",
      "  requests: <list(7)> query, parse, wikidata, labels, labels, rest...\n",
      "  title: Extraterrestrial_(2014_film)\n",
      "  url: https://en.wikipedia.org/wiki/Extraterrestrial_(2014_film)\n",
      "  url_raw: <str(69)> https://en.wikipedia.org/wiki/Extraterrestria...\n",
      "  what: film\n",
      "  wikibase: Q16649033\n",
      "  wikidata: <dict(35)> Rotten Tomatoes ID (P1258), instance of (P3...\n",
      "  wikidata_url: https://www.wikidata.org/wiki/Q16649033\n",
      "  wikitext: <str(9654)> {{Use mdy dates|date=April 2018}}{{Infobox...\n",
      "}\n"
     ]
    }
   ],
   "source": [
    "# Your code here: get the E.T. page object\n",
    "# This cell make take a few seconds to run\n",
    "page = wptools.page('Extraterrestrial_(2014_film)').get()"
   ]
  },
  {
   "cell_type": "code",
   "execution_count": 5,
   "metadata": {},
   "outputs": [
    {
     "data": {
      "text/plain": [
       "[{'kind': 'parse-image',\n",
       "  'file': 'File:Extraterrestrial-film-2014.jpg',\n",
       "  'orig': 'Extraterrestrial-film-2014.jpg',\n",
       "  'timestamp': '2015-07-20T06:02:21Z',\n",
       "  'size': 16437,\n",
       "  'width': 259,\n",
       "  'height': 384,\n",
       "  'url': 'https://upload.wikimedia.org/wikipedia/en/4/4a/Extraterrestrial-film-2014.jpg',\n",
       "  'descriptionurl': 'https://en.wikipedia.org/wiki/File:Extraterrestrial-film-2014.jpg',\n",
       "  'descriptionshorturl': 'https://en.wikipedia.org/w/index.php?curid=45236884',\n",
       "  'title': 'File:Extraterrestrial-film-2014.jpg'},\n",
       " {'kind': 'restbase-original',\n",
       "  'width': 259,\n",
       "  'height': 384,\n",
       "  'url': 'https://upload.wikimedia.org/wikipedia/en/4/4a/Extraterrestrial-film-2014.jpg',\n",
       "  'file': 'File:Extraterrestrial-film-2014.jpg',\n",
       "  'orig': 'Extraterrestrial-film-2014.jpg'},\n",
       " {'kind': 'restbase-thumb',\n",
       "  'width': 216,\n",
       "  'height': 320,\n",
       "  'url': 'https://upload.wikimedia.org/wikipedia/en/thumb/4/4a/Extraterrestrial-film-2014.jpg/216px-Extraterrestrial-film-2014.jpg',\n",
       "  'file': 'File:216px-Extraterrestrial-film-2014.jpg',\n",
       "  'orig': '216px-Extraterrestrial-film-2014.jpg'}]"
      ]
     },
     "execution_count": 5,
     "metadata": {},
     "output_type": "execute_result"
    }
   ],
   "source": [
    "# Accessing the image attribute will return the images for this page\n",
    "page.data['image']"
   ]
  }
 ],
 "metadata": {
  "kernelspec": {
   "display_name": "Python 3",
   "language": "python",
   "name": "python3"
  },
  "language_info": {
   "codemirror_mode": {
    "name": "ipython",
    "version": 3
   },
   "file_extension": ".py",
   "mimetype": "text/x-python",
   "name": "python",
   "nbconvert_exporter": "python",
   "pygments_lexer": "ipython3",
   "version": "3.6.3"
  }
 },
 "nbformat": 4,
 "nbformat_minor": 2
}
